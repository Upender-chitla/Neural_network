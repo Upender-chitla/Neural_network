{
 "cells": [
  {
   "cell_type": "code",
   "execution_count": 5,
   "id": "4c10c2b2",
   "metadata": {},
   "outputs": [
    {
     "name": "stdout",
     "output_type": "stream",
     "text": [
      "avg: 4000.0\n",
      "Name :  Upender Family:  Chitla Salary:  6000 department: Front-end\n",
      "Total Employee 3\n"
     ]
    },
    {
     "data": {
      "text/plain": [
       "('Meta', None, None)"
      ]
     },
     "execution_count": 5,
     "metadata": {},
     "output_type": "execute_result"
    }
   ],
   "source": [
    "class Employee:\n",
    "    empCount=0\n",
    "    salSum=0 \n",
    "    def __init__(self,name,family,salary,department):\n",
    "        self.name = name\n",
    "        self.family = family\n",
    "        self.salary = salary\n",
    "        self.department = department\n",
    "        Employee.empCount += 1\n",
    "        Employee.salSum+=self.salary\n",
    "    def avg(self):\n",
    "        return Employee.salSum/Employee.empCount\n",
    "    def displayCount(self): \n",
    "        print (\"Total Employee %d\" % Employee.empCount)\n",
    "    def displayEmployee(self):\n",
    "        print(\"Name : \", self.name, \"Family: \", self.family , \"Salary: \", self.salary, \"department:\",self.department)\n",
    "\n",
    "emp1 = Employee(\"Teja Sai\",\"Jammala\",3000,\"software\")\n",
    "emp2 = Employee(\"Sai\",\"Charan\",5000,\"fatbee\")\n",
    "print(\"avg:\",emp2.avg())\n",
    "class FulltimeEmployee(Employee):\n",
    "    def __init__(self,name,family,salary,department,c_name):\n",
    "        super().__init__(name,family,salary,department)\n",
    "        self.c_name=c_name\n",
    "    def setCompany(self,c_name):\n",
    "        self.c_name=c_name\n",
    "    def getCompany(self):\n",
    "        if self.c_name not in self.c_name:\n",
    "            return \"\"\n",
    "        return self.c_name\n",
    "upen=FulltimeEmployee(\"Upender\",\"Chitla\",6000,\"Front-end\",\"JP Morgan\")\n",
    "upen.setCompany(\"Meta\")\n",
    "upen.getCompany(),upen.displayEmployee(),emp1.displayCount()"
   ]
  },
  {
   "cell_type": "code",
   "execution_count": 2,
   "id": "af327dfa",
   "metadata": {},
   "outputs": [
    {
     "name": "stdout",
     "output_type": "stream",
     "text": [
      "[ 1.  2.  3.  4.  5.  6.  7.  8.  9. 10. 11. 12. 13. 14. 15. 16. 17. 18.\n",
      " 19. 20.]\n",
      "[[ 1.  2.  3.  4.  5.]\n",
      " [ 6.  7.  8.  9. 10.]\n",
      " [11. 12. 13. 14. 15.]\n",
      " [16. 17. 18. 19. 20.]]\n"
     ]
    },
    {
     "data": {
      "text/plain": [
       "array([[ 1.,  2.,  3.,  4.,  0.],\n",
       "       [ 6.,  7.,  8.,  9.,  0.],\n",
       "       [11., 12., 13., 14.,  0.],\n",
       "       [16., 17., 18., 19.,  0.]])"
      ]
     },
     "execution_count": 2,
     "metadata": {},
     "output_type": "execute_result"
    }
   ],
   "source": [
    "import numpy as np \n",
    "vec=np.arange(1,21,dtype=float) \n",
    "print(vec)\n",
    "vec=vec.reshape(4,5)\n",
    "print(vec)\n",
    "vec=np.where(np.isin(vec,vec.max(axis=1)),0,vec)\n",
    "vec"
   ]
  },
  {
   "cell_type": "code",
   "execution_count": null,
   "id": "19f4c116",
   "metadata": {},
   "outputs": [],
   "source": []
  }
 ],
 "metadata": {
  "kernelspec": {
   "display_name": "Python 3 (ipykernel)",
   "language": "python",
   "name": "python3"
  },
  "language_info": {
   "codemirror_mode": {
    "name": "ipython",
    "version": 3
   },
   "file_extension": ".py",
   "mimetype": "text/x-python",
   "name": "python",
   "nbconvert_exporter": "python",
   "pygments_lexer": "ipython3",
   "version": "3.10.9"
  }
 },
 "nbformat": 4,
 "nbformat_minor": 5
}
