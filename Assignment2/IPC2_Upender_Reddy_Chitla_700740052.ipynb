{
 "cells": [
  {
   "cell_type": "code",
   "execution_count": 15,
   "id": "ca695e5c",
   "metadata": {},
   "outputs": [],
   "source": [
    "def Full_Name(First_name,Last_name):\n",
    "    return First_name+' '+Last_name"
   ]
  },
  {
   "cell_type": "code",
   "execution_count": 16,
   "id": "953650f2",
   "metadata": {},
   "outputs": [
    {
     "name": "stdout",
     "output_type": "stream",
     "text": [
      "Enter your first name:\n",
      "Upender Reddy\n",
      "Enter your last name:\n",
      "Chitla\n",
      "Upender Reddy Chitla\n"
     ]
    }
   ],
   "source": [
    "First_Name=input(\"Enter your first name:\\n\")\n",
    "Last_Name=input(\"Enter your last name:\\n\")\n",
    "FullName=Full_Name(First_Name,Last_Name)\n",
    "print(FullName)"
   ]
  },
  {
   "cell_type": "code",
   "execution_count": 17,
   "id": "a5416832",
   "metadata": {},
   "outputs": [
    {
     "name": "stdout",
     "output_type": "stream",
     "text": [
      "Go vnn\n"
     ]
    }
   ],
   "source": [
    "def alternative_string(word):\n",
    "    alt=''\n",
    "    for i in range(0,len(word)):\n",
    "        if(i%2==0):\n",
    "            alt=alt+word[i]\n",
    "    return alt\n",
    "if __name__=='__main__':\n",
    "    print(alternative_string(\"Good evening\"))"
   ]
  },
  {
   "cell_type": "code",
   "execution_count": 18,
   "id": "99ce56a8",
   "metadata": {},
   "outputs": [
    {
     "name": "stdout",
     "output_type": "stream",
     "text": [
      "Python:1\n",
      "Course:2\n",
      "Deep:1\n",
      "Learning:1\n",
      "\n"
     ]
    }
   ],
   "source": [
    "with open('input.txt','r') as inpf:\n",
    "    line=inpf.read()\n",
    "    word=line.split()\n",
    "    check=[]\n",
    "    with open('output_file.txt','w') as optf:\n",
    "        for i in word:\n",
    "            if i not in check:\n",
    "                check.append(i)\n",
    "                optf.write(i+':'+str(word.count(i))+'\\n')      \n",
    "opf=open('output_file.txt','r')\n",
    "print(opf.read())"
   ]
  },
  {
   "cell_type": "code",
   "execution_count": 19,
   "id": "dc50d849",
   "metadata": {},
   "outputs": [
    {
     "name": "stdout",
     "output_type": "stream",
     "text": [
      "23\n",
      "12\n",
      "45\n",
      "6\n",
      "0\n"
     ]
    }
   ],
   "source": [
    "heights=[]\n",
    "while True:\n",
    "    x=float(input())\n",
    "    if(x<=0):\n",
    "        break\n",
    "    heights.append(x)"
   ]
  },
  {
   "cell_type": "code",
   "execution_count": 20,
   "id": "863ee1b8",
   "metadata": {},
   "outputs": [
    {
     "name": "stdout",
     "output_type": "stream",
     "text": [
      "[58.42, 30.48, 114.3, 15.24]\n"
     ]
    }
   ],
   "source": [
    "output=[x*2.54 for x in heights]\n",
    "print(output)#this is in cm"
   ]
  }
 ],
 "metadata": {
  "kernelspec": {
   "display_name": "Python 3 (ipykernel)",
   "language": "python",
   "name": "python3"
  },
  "language_info": {
   "codemirror_mode": {
    "name": "ipython",
    "version": 3
   },
   "file_extension": ".py",
   "mimetype": "text/x-python",
   "name": "python",
   "nbconvert_exporter": "python",
   "pygments_lexer": "ipython3",
   "version": "3.10.9"
  }
 },
 "nbformat": 4,
 "nbformat_minor": 5
}
